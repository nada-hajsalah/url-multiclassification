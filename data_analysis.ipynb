{
  "nbformat": 4,
  "nbformat_minor": 0,
  "metadata": {
    "accelerator": "GPU",
    "colab": {
      "name": "test.ipynb",
      "provenance": [],
      "machine_shape": "hm"
    },
    "kernelspec": {
      "display_name": "Python 3",
      "name": "python3"
    },
    "language_info": {
      "name": "python"
    }
  },
  "cells": [
    {
      "cell_type": "code",
      "metadata": {
        "colab": {
          "base_uri": "https://localhost:8080/"
        },
        "id": "wIriyC0oQphD",
        "outputId": "96c87c74-fe7d-4e58-f3f6-7a2de693347e"
      },
      "source": [
        "from google.colab import drive\n",
        "drive.mount('/content/gdrive')"
      ],
      "execution_count": null,
      "outputs": [
        {
          "output_type": "stream",
          "name": "stdout",
          "text": [
            "Mounted at /content/gdrive\n"
          ]
        }
      ]
    },
    {
      "cell_type": "code",
      "metadata": {
        "colab": {
          "base_uri": "https://localhost:8080/"
        },
        "id": "bF7JtbeBR5UO",
        "outputId": "8b459612-a2b3-4012-bf78-d066435ca407"
      },
      "source": [
        "cd '/content/gdrive/My Drive/data'"
      ],
      "execution_count": null,
      "outputs": [
        {
          "output_type": "stream",
          "name": "stdout",
          "text": [
            "/content/gdrive/My Drive/data\n"
          ]
        }
      ]
    },
    {
      "cell_type": "code",
      "metadata": {
        "colab": {
          "base_uri": "https://localhost:8080/"
        },
        "id": "i6Buz8fvzHpR",
        "outputId": "4342aef5-0ca5-46dd-ec34-6e5f7ab58a2b"
      },
      "source": [
        "!pip install tldextract"
      ],
      "execution_count": null,
      "outputs": [
        {
          "output_type": "stream",
          "name": "stdout",
          "text": [
            "Requirement already satisfied: tldextract in /usr/local/lib/python3.7/dist-packages (3.1.2)\n",
            "Requirement already satisfied: idna in /usr/local/lib/python3.7/dist-packages (from tldextract) (2.10)\n",
            "Requirement already satisfied: requests>=2.1.0 in /usr/local/lib/python3.7/dist-packages (from tldextract) (2.23.0)\n",
            "Requirement already satisfied: requests-file>=1.4 in /usr/local/lib/python3.7/dist-packages (from tldextract) (1.5.1)\n",
            "Requirement already satisfied: filelock>=3.0.8 in /usr/local/lib/python3.7/dist-packages (from tldextract) (3.4.0)\n",
            "Requirement already satisfied: chardet<4,>=3.0.2 in /usr/local/lib/python3.7/dist-packages (from requests>=2.1.0->tldextract) (3.0.4)\n",
            "Requirement already satisfied: urllib3!=1.25.0,!=1.25.1,<1.26,>=1.21.1 in /usr/local/lib/python3.7/dist-packages (from requests>=2.1.0->tldextract) (1.24.3)\n",
            "Requirement already satisfied: certifi>=2017.4.17 in /usr/local/lib/python3.7/dist-packages (from requests>=2.1.0->tldextract) (2021.10.8)\n",
            "Requirement already satisfied: six in /usr/local/lib/python3.7/dist-packages (from requests-file>=1.4->tldextract) (1.15.0)\n"
          ]
        }
      ]
    },
    {
      "cell_type": "code",
      "metadata": {
        "id": "Ie5PtKIjSIJZ"
      },
      "source": [
        "import numpy as np\n",
        "import pandas as pd\n",
        "import re\n",
        "import logging\n",
        "import glob\n",
        "import os\n",
        "import torch\n",
        "import tldextract\n",
        "from torch.utils.data import Dataset, DataLoader\n",
        "import matplotlib.pyplot as plt\n",
        "import seaborn as sns \n",
        "from urllib.parse import urlparse\n",
        "from urllib.parse import unquote\n",
        "\n"
      ],
      "execution_count": null,
      "outputs": []
    },
    {
      "cell_type": "code",
      "metadata": {
        "id": "QHIJZV44gQ7i"
      },
      "source": [
        "path2=r\"/content/gdrive/My Drive/tld\""
      ],
      "execution_count": null,
      "outputs": []
    },
    {
      "cell_type": "code",
      "metadata": {
        "id": "PgAy35JQ8RI0"
      },
      "source": [
        "path = r'/content/gdrive/My Drive/data'                     # use your path\n",
        "all_files = glob.glob(os.path.join(path, \"*.parquet\"))\n",
        "#logger = set_logger(\"./log/data.log\")"
      ],
      "execution_count": null,
      "outputs": []
    },
    {
      "cell_type": "markdown",
      "metadata": {
        "id": "N14IgbqkaG9u"
      },
      "source": [
        "**1**-  Data\n"
      ]
    },
    {
      "cell_type": "code",
      "metadata": {
        "id": "p0mu9LTq6pPU"
      },
      "source": [
        "logging.basicConfig(level=logging.WARNING)\n",
        "\n",
        "def load_dataset(path):\n",
        "  \"Read all files in the dataset and convert them into a dataframe\"\n",
        "  all_files = glob.glob(os.path.join(path, \"*.parquet\"))\n",
        "  if not all_files:\n",
        "        raise ValueError('The folder is empty. Please enter another path')\n",
        "  df_from_each_file = (pd.read_parquet(f, engine='pyarrow') for f in all_files)\n",
        "  concatenated_df   = pd.concat(df_from_each_file, ignore_index=True)\n",
        "  logging.info(\"Data loaded successfully\")\n",
        "\n",
        "  return concatenated_df"
      ],
      "execution_count": null,
      "outputs": []
    },
    {
      "cell_type": "code",
      "metadata": {
        "id": "FBkehQUX8_Iv"
      },
      "source": [
        "df=load_dataset(path)"
      ],
      "execution_count": null,
      "outputs": []
    },
    {
      "cell_type": "markdown",
      "metadata": {
        "id": "JUn7_DfyXmbn"
      },
      "source": [
        "2- Exploratory Data Analysis"
      ]
    },
    {
      "cell_type": "code",
      "metadata": {
        "id": "Xk4yU1mYX5zc"
      },
      "source": [
        "def duplicated(df,mode):\n",
        "  \"\"\"Deal with duplicated rows\"\"\"\n",
        "  #The dataset contains two types of duplications: 1/ the url and the target are duplicated  2/the url is duplicated with different targets\n",
        "  #to take into account the recent day\n",
        "  if mode==\"last\":\n",
        "    df_no_dup=df.drop_duplicates(subset=[\"url\"],keep=\"last\", inplace=False)\n",
        "  # to take into account take the intersection between the different targets of same url\n",
        "  if mode==\"intersection\":\n",
        "     df[\"target\"]=df[\"target\"].apply(set)\n",
        "     df_no_dup=pd.DataFrame(df.groupby('url',as_index=True)[\"target\"].agg(lambda x:set.intersection(*x)))\n",
        "     df_no_dup.reset_index(level=0, inplace=True)\n",
        "     df_no_dup[\"target\"]=df_no_dup[\"target\"].apply(list)\n",
        "  return df_no_dup\n"
      ],
      "execution_count": null,
      "outputs": []
    },
    {
      "cell_type": "code",
      "metadata": {
        "id": "2Ar2wgJKDO6O"
      },
      "source": [
        "logging.basicConfig(level=logging.WARNING)\n",
        "\n",
        "def EDA(df,mode):\n",
        "  \" Function for Exploratory Data Analysis of Tags feature\"\n",
        "  \"\"\" \n",
        "    :param df: Dataframe\n",
        "    :param mode: Method to remove the duplicate entries\n",
        "    :return: Dataframe with no duplication\n",
        "  \"\"\"\n",
        "  #remove missing data\n",
        "  if df['target'].isnull().any():\n",
        "    df=df.dropna(subset=['target'])\n",
        "\n",
        "  labels=df[\"target\"]\n",
        "  #Number of unique labels\n",
        "  count=len(set(labels.explode()))\n",
        "  print(count)\n",
        "  logging.info(\"Number of lables\",count)\n",
        "  logging.info(\"Number of rows in the dataset\",len(df))\n",
        "\n",
        "  #Checking for duplicate entries in the dataset\n",
        "  boolean = df.duplicated(subset=['url']).any()\n",
        "\n",
        "  if boolean:\n",
        "    \n",
        "    df_new= duplicated(df,mode=\"last\")\n",
        "    logging.info(\"Number of rows in the de-duplicated dataset\",len(df_new))\n",
        "    print(\"Total number of duplicate entries removed from the given dataset: \",len(df)-len(df_new))\n",
        "  else:\n",
        "    df_new=df\n",
        "\n",
        "  #Checking for the distribution of number of tags per url\n",
        "  df_new[\"tag_count\"] = df_new[\"target\"].apply(lambda tags: len(tags))\n",
        "  plt.figure(figsize=(10,5))\n",
        "  sns.countplot(df_new.tag_count, palette='gist_rainbow')\n",
        "  plt.title(\"Distribution of the number of tags per url\")\n",
        "  plt.xlabel(\"Number of Tags\")\n",
        "  plt.ylabel(\"Number of url\")\n",
        "  plt.show()\n",
        "  #Average of labels per url\n",
        "  avg_tg=sum(df_new[\"tag_count\"])*1/len(df_new[\"tag_count\"])\n",
        "  logging.info(\"Average  number  labels per url\",avg_tg)\n",
        "  logging.info(\"Max number of labels per url\",max(df_new[\"tag_count\"]))\n",
        "  logging.info(\"Min number of labels per url\",min(df_new[\"tag_count\"]))\n",
        "\n",
        "  #The number of times each tag appeared\n",
        "  count=df_new[\"target\"].explode().value_counts()\n",
        "  plt.hist(count)\n",
        "  plt.show()\n",
        "\n",
        "  #drop column day and tag_count\n",
        "  df_new=df_new.drop([\"day\",'tag_count'],axis=1)\n",
        "\n",
        "  return df_new\n"
      ],
      "execution_count": null,
      "outputs": []
    },
    {
      "cell_type": "code",
      "metadata": {
        "colab": {
          "base_uri": "https://localhost:8080/",
          "height": 771
        },
        "id": "a0jflbZsy8Eq",
        "outputId": "387add6b-08e5-47ea-e057-25ff7c5f882c"
      },
      "source": [
        "d=EDA(df,\"last\")"
      ],
      "execution_count": null,
      "outputs": [
        {
          "output_type": "stream",
          "name": "stdout",
          "text": [
            "1903\n",
            "Total number of duplicate entries removed from the given dataset:  120\n"
          ]
        },
        {
          "output_type": "stream",
          "name": "stderr",
          "text": [
            "/usr/local/lib/python3.7/dist-packages/ipykernel_launcher.py:33: SettingWithCopyWarning: \n",
            "A value is trying to be set on a copy of a slice from a DataFrame.\n",
            "Try using .loc[row_indexer,col_indexer] = value instead\n",
            "\n",
            "See the caveats in the documentation: https://pandas.pydata.org/pandas-docs/stable/user_guide/indexing.html#returning-a-view-versus-a-copy\n",
            "/usr/local/lib/python3.7/dist-packages/seaborn/_decorators.py:43: FutureWarning: Pass the following variable as a keyword arg: x. From version 0.12, the only valid positional argument will be `data`, and passing other arguments without an explicit keyword will result in an error or misinterpretation.\n",
            "  FutureWarning\n"
          ]
        },
        {
          "output_type": "display_data",
          "data": {
            "image/png": "[encoded data removed]",
            "text/plain": [
              "<Figure size 720x360 with 1 Axes>"
            ]
          },
          "metadata": {
            "needs_background": "light"
          }
        },
        {
          "output_type": "display_data",
          "data": {
            "image/png": "[encoded data removed]",
            "text/plain": [
              "<Figure size 432x288 with 1 Axes>"
            ]
          },
          "metadata": {
            "needs_background": "light"
          }
        }
      ]
    },
    {
      "cell_type": "code",
      "metadata": {
        "colab": {
          "base_uri": "https://localhost:8080/"
        },
        "id": "QAsZ2-Sch_Sp",
        "outputId": "33445abc-7d90-45f0-a9a8-0ef3997c95c5"
      },
      "source": [
        "cd '/content/gdrive/My Drive/tld'"
      ],
      "execution_count": null,
      "outputs": [
        {
          "output_type": "stream",
          "name": "stdout",
          "text": [
            "/content/gdrive/My Drive/tld\n"
          ]
        }
      ]
    },
    {
      "cell_type": "markdown",
      "metadata": {
        "id": "gZ2tMhJHYJPZ"
      },
      "source": [
        "3- clenad data"
      ]
    },
    {
      "cell_type": "code",
      "metadata": {
        "id": "Lf3hzYgoz4af"
      },
      "source": [
        "import nltk\n"
      ],
      "execution_count": null,
      "outputs": []
    },
    {
      "cell_type": "code",
      "metadata": {
        "colab": {
          "base_uri": "https://localhost:8080/"
        },
        "id": "SR4QbuY6zwqD",
        "outputId": "7726dd6f-ca1b-4d02-cb75-2cd67f6b97ca"
      },
      "source": [
        "from nltk.corpus import stopwords\n",
        "\n",
        "nltk.download('stopwords')"
      ],
      "execution_count": null,
      "outputs": [
        {
          "output_type": "stream",
          "name": "stdout",
          "text": [
            "[nltk_data] Downloading package stopwords to /root/nltk_data...\n",
            "[nltk_data]   Unzipping corpora/stopwords.zip.\n"
          ]
        },
        {
          "output_type": "execute_result",
          "data": {
            "text/plain": [
              "True"
            ]
          },
          "metadata": {},
          "execution_count": 12
        }
      ]
    },
    {
      "cell_type": "code",
      "metadata": {
        "id": "hAGEbvs4mlKt"
      },
      "source": [
        "def remove_stopwords_and_tokens(sentence):\n",
        "  \"\"\"\n",
        "  Remove stopwords from sentence and length less than 2\n",
        "  \"\"\"\n",
        "  stopwords_list=stopwords.words('french')\n",
        "  tokens = sentence.split(\" \")\n",
        "  tags=[\"html\",\"php\",\"htm\",\"phtml\"]\n",
        "  tokens_filtered= [word for word in tokens if (not word in stopwords_list) and  (len(word)>2) and (not word in tags)]\n",
        "  return (\" \").join(tokens_filtered)"
      ],
      "execution_count": null,
      "outputs": []
    },
    {
      "cell_type": "code",
      "metadata": {
        "id": "BD8b_EYmyEnR"
      },
      "source": [
        "def clean_path(path):\n",
        "  \"\"\"\n",
        "  Clean path: remove stopwords, punctations, digits, token with length<2, espace\n",
        "  \"\"\"\n",
        "\n",
        "\n",
        "  #remove puntation and digits\n",
        "  path=re.sub(r'[^\\w\\s]|[0-9]', ' ', path)\n",
        "\n",
        "  #remove stopwords:\n",
        "  path=remove_stopwords_and_tokens(path)\n",
        "\n",
        "  #remove extra space\n",
        "  path=\" \".join(path.split())\n",
        "\n",
        "  return path\n",
        "  \n",
        "\n",
        "  "
      ],
      "execution_count": null,
      "outputs": []
    },
    {
      "cell_type": "code",
      "metadata": {
        "id": "6AtyTSf6ZgNm"
      },
      "source": [
        "def parse_url_clean(df):\n",
        "  \"\"\" \n",
        "    Function for parsing  and cleaning the url\n",
        "    :param df: Dataframe\n",
        "    :return: Dataframe with new columns as features\n",
        "  \"\"\"\n",
        " \n",
        "  #1.Parse path\n",
        "  df[\"Path\"]=df[\"url\"].apply(lambda x:  urlparse(x).path)\n",
        "  # Decode the path\n",
        "  df[\"Path\"]=df[\"Path\"].apply(lambda x:  unquote(x))\n",
        "  #Clean path\n",
        "  df[\"Path\"]=df[\"Path\"].apply(lambda x:  clean_path(x))\n",
        "\n",
        "  \n",
        "  #3: Parse tld \n",
        "  #extract tld\n",
        "  df['tld'] = df['url'].apply(\n",
        "        lambda x: tldextract.extract(x).suffix ) # We consider only the last part of the tld\n",
        "   #1/ parse and preprocessing of netloc\n",
        "  #extract name of domain name\n",
        "  df[\"Netloc\"]=df['url'].apply(\n",
        "        lambda x: urlparse(x).netloc)\n",
        "  #remove wwww and tld from netloc\n",
        "  url = re.compile(r\"(www)?[\\.]\")\n",
        "  df[\"Netloc\"]= df[\"Netloc\"].apply(lambda x: url.sub(' ',x).strip())\n",
        "  df[\"Netloc\"]= df.apply(lambda x:  x.Netloc.replace(x.tld, \"\"),axis=1 )\n",
        "\n",
        "  \n",
        "  return df\n"
      ],
      "execution_count": null,
      "outputs": []
    },
    {
      "cell_type": "code",
      "metadata": {
        "id": "IxJWBNLlZqhz"
      },
      "source": [
        "df_features=parse_url_clean(d)\n",
        "\n"
      ],
      "execution_count": null,
      "outputs": []
    },
    {
      "cell_type": "markdown",
      "metadata": {
        "id": "27ILRHpjZ6_W"
      },
      "source": [
        "4-extract features"
      ]
    },
    {
      "cell_type": "code",
      "metadata": {
        "id": "udAfllVWdoyT"
      },
      "source": [
        "def load_tld_files(path=path2):\n",
        "    \"\"\" \n",
        "    Load files contained tld and their types\n",
        "    Param path\n",
        "    Return dict with tld as keys and type as value\n",
        "    \"\"\"\n",
        "    tld = pd.read_csv(path+\"/\"+\"tld-list-details.csv\")\n",
        "    gtld=pd.read_excel(path+\"/\"+\"gtld.xlsx\")\n",
        "    gtld_dict=dict(zip(gtld.TLD, gtld.Catégorie))\n",
        "    tld_dict = dict(zip(tld.TLD, tld.Type))\n",
        "\n",
        "    return gtld_dict,tld_dict"
      ],
      "execution_count": null,
      "outputs": []
    },
    {
      "cell_type": "code",
      "metadata": {
        "id": "7tP_GMkMMFEX"
      },
      "source": [
        "def tld_category(tld):\n",
        "  \"\"\" \n",
        "  Param tld: top level domain\n",
        "  Return the category of the top level domain\n",
        "  \"\"\"\n",
        "  if tld.upper() in gtld_dict:\n",
        "    return gtld_dict[tld.upper()]\n",
        "  elif tld in tld_dict:\n",
        "    return  tld_dict[tld]\n",
        "  else:\n",
        "    return \"other_tld\""
      ],
      "execution_count": null,
      "outputs": []
    },
    {
      "cell_type": "code",
      "metadata": {
        "id": "jedme6n5aKlI"
      },
      "source": [
        "gtld_dict,tld_dict=load_tld_files(path2)"
      ],
      "execution_count": null,
      "outputs": []
    },
    {
      "cell_type": "code",
      "metadata": {
        "id": "3349N9S8CqcN"
      },
      "source": [
        "def extract_features(df):\n",
        "  \"\"\" \n",
        "   Function for feature engineering: extract features from url\n",
        "  \n",
        "    :param df: Dataframe\n",
        "    :return: Dataframe with new columns as features\n",
        "  \"\"\"\n",
        "  df_features = df.copy()\n",
        "  #extract length of url\n",
        "  length_url_median = df_features['url'].apply(len).median()\n",
        "  df_features['is_long'] = df_features['url'].apply(\n",
        "        lambda x: len(x) > length_url_median).astype(int)\n",
        "\n",
        "  #extract tld\n",
        "  df_features[\"tld_category\"]= df_features[\"tld\"].apply(lambda x:tld_category(x))\n",
        "  \n",
        "  return df_features\n",
        "    \n",
        "  \n",
        "  \n",
        "  \n"
      ],
      "execution_count": null,
      "outputs": []
    },
    {
      "cell_type": "code",
      "metadata": {
        "id": "uv43EdLxZw5c"
      },
      "source": [
        "a=extract_features(df_features)"
      ],
      "execution_count": null,
      "outputs": []
    },
    {
      "cell_type": "code",
      "metadata": {
        "id": "Rg9DhbHYboWu"
      },
      "source": [
        "def input_classifier(df)\n",
        "\"\"\" \n",
        "Transform columns of the datafram to the right form for the classifier\n",
        "\"\"\"\n",
        "\n",
        "#Concatane the embedding of netloc and the path\n",
        "embedding_path =\n"
      ],
      "execution_count": null,
      "outputs": []
    },
    {
      "cell_type": "markdown",
      "metadata": {
        "id": "BoWx13DFahbb"
      },
      "source": [
        "T5albiizz houni \n"
      ]
    },
    {
      "cell_type": "code",
      "metadata": {
        "colab": {
          "base_uri": "https://localhost:8080/"
        },
        "id": "YdiGmnQz9fP4",
        "outputId": "373e01e4-b02e-455b-ce5f-9a28ebf62a3b"
      },
      "source": [
        "for i in df[\"url\"][:100]: \n",
        "  print(i)"
      ],
      "execution_count": null,
      "outputs": [
        {
          "output_type": "stream",
          "name": "stdout",
          "text": [
            "https://www.cdiscount.com/bricolage/electricite/batterie-plomb-6v-4ah-ova51023e-pour-toplux/f-16614-ova2009927775303.html\n",
            "https://www.mystalk.net/profile/vitoriafcorrea\n",
            "https://www.lequipe.fr/Tennis/TennisFicheJoueur1500000000003017.html\n",
            "http://m.jeuxvideo.com/forums/42-32625-60180057-1-0-1-0-la-guilde-fourmi-legionnaire-recrute.htm\n",
            "https://context.reverso.net/traduction/espagnol-francais/Para+ir\n",
            "https://www.nordeclair.fr/700287/article/2020-01-25/roubaix-les-panneaux-solaires-installes-sur-la-mediatheque-n-etaient-pas\n",
            "https://www.750g.com/gateau-breton-de-mamie-scarlett-r70200.htm\n",
            "http://www.jeuxvideo.com/forums/1-18505-21783-1-0-1-0-duree-de-vie.htm\n",
            "https://www.lachainemeteo.com/meteo-france/ville-774900/previsions-meteo-tourtour-vendredi\n",
            "https://fr.shopping.rakuten.com/s/lauren+st+john\n",
            "http://m.jeuxvideo.com/forums/42-28979-59900574-1-0-1-0-la-configuration-pc.htm\n",
            "http://mamiehiou.over-blog.com/article-ne-expletif-quand-peut-on-l-employer-sans-que-je-ne-avant-que-je-ne-je-crains-que-tu-94163090.html\n",
            "https://dictionnaire.reverso.net/francais-synonymes/d%C3%A9faut+de+qualit%C3%A9\n",
            "https://www.mystalk.net/search/michaelaachr\n",
            "https://www.cuisineaz.com/diaporamas/recettes-de-galettes-des-rois-982/interne/1.aspx\n",
            "https://www.automobile.fr/voiture/bmw-x1/vhc:car,cnt:de!at!fr!nl!pl!be!dk!es!lu,srt:price,sro:asc,ms1:3500_6_,prx:30000,mlx:80000,dmg:false,pa:rear_view_cam,fwd:true,nvs:true\n",
            "https://www.conforama.fr/special/gros-electromenager/cuisson/cuisiniere/c/070301/NW-3473-type-de-cuisiniere~cuisiniere-induction/NW-20-couleur~silver\n",
            "https://fr.shopping.rakuten.com/s/tacite+pleiade\n",
            "https://www.purepeople.com/media/_m942204\n",
            "https://www.cdiscount.com/bricolage/outillage/batterie-pour-dyson-v6-absolute-1500mah-21-6v/f-166010120-vis6205662677407.html\n",
            "https://www.automobile.fr/Voiture/Mercedes-Benz-CLA-220-CDI-URBAN-AUTOMATIK-LED/vhc:car,ms1:17200_-45_,frn:2015,prx:20000,ful:diesel,ger:automatic_gear,dmg:false,vcg:limousine/pg:vipcar/292964987.html\n",
            "https://www.ladepeche.fr/article/2018/02/07/2737573-philippe-jougla-si-est-entendus-tiendrai-gars.html\n",
            "http://www.jeuxvideo.com/wikis-soluce-astuces/tous-les-djinns/217095\n",
            "http://www.leparisien.fr/hauts-de-seine-92/colombes-92700/colombes-des-chevres-a-la-place-des-debroussailleuses-12-04-2016-5708885.php\n",
            "https://www.autoscout24.fr/offres/porsche-cayenne-diesel-luft-leder-beige-navi-bi-xenon-diesel-noir-5d4a1b39-2a90-40df-9a8c-87af42dcd3c9\n",
            "https://dictionnaire.reverso.net/anglais-francais/shimmering\n",
            "https://www.clubic.com/telecharger-fiche432843-maschine-1.html\n",
            "https://www.unica.ro/compatibilitate/pesti-berbec\n",
            "https://www.marmiton.org/recettes/recette_colombo-de-porc-a-la-guyanaise_228559.aspx\n",
            "https://www.automobile.fr/Voiture/Fiat-500-Cabrio-Pop-Star/vhc:car,cnt:de,srt:date,sro:desc,ms1:8800_49_,frn:2016,prx:8000/pg:vipcar/292683240.html\n",
            "http://m.meteocity.com/City/meteoCityDetails/35066\n",
            "https://www.cdiscount.com/maison/r-store+pour+fenetre+de+toit.html\n",
            "https://www.programme-tv.net/news/evenement/ligue-1-2017-2018/170951-programme-tv-ligue-1-nantes-psg-rennes-om-sur-quelles-chaines-suivre-les-matches-de-la-20e-journee\n",
            "https://www.cdiscount.com/maison/linge-maison/couette-imprimee-220x240-cm-400-gr-m2-city-by-nigh/r2-117621202-auc5037632621162-454624167.html\n",
            "https://www.cdiscount.com/search/10/polo+armani.html\n",
            "https://www.developpez.net/forums/d1091246/logiciels/microsoft-office/excel/macros-vba-excel/compter-nombre-valeurs-distinctes-colonne\n",
            "https://cally.com/event/index/mg2yibemwjy2mwf8r\n",
            "https://games.poki.com/458768/extremecarparking\n",
            "https://www.football.london/tottenham-hotspur-fc/transfer-news/latest-tottenham-transfer-rumours-no-17683013\n",
            "https://www.serieously.com/comment-noah-centineo-a-predit-malgre-lui-son-succes-a-ses-parents\n",
            "https://fr.shopping.rakuten.com/offer/buy/559042985/lames-scies-circ-mp-lame-de-scie-circulaire-special-190x2x30-d54-1.html\n",
            "https://www.cdiscount.com/maison/r-couveuse+professionnel.html\n",
            "https://www.beaute-test.com/white_camellia_ultra-smoothing_conditioner_aubrey_organics.php\n",
            "http://www.allocine.fr/personne/fichepersonne_gen_cpersonne=218184.html\n",
            "https://immobilier.lefigaro.fr/annonces/immobilier-location-appartement-toulon+83100.html\n",
            "https://www.lejournaldelamaison.fr/le-journal-de-la-maison/nouveautes/tendances/tendances-couleurs-nos-interieurs-2018-178840.html\n",
            "https://www.cdiscount.com/jardin/amenager-decorer-le-jardin/pots-bacs-jardinieres/pots/pot-de-fleur-cavalier/l-16303010313.html\n",
            "https://chefsimon.com/gourmets/chloe-delice/recettes/galettes-des-rois-individuelles-a-la-veritable-frangipane\n",
            "https://www.automobile.fr/voiture/volkswagen-touran/vhc:car,pgn:4,pgs:10,ms1:25200_37_,frn:2011,prx:4000,dmg:false\n",
            "https://www.dailymail.co.uk/news/article-7956303/Australian-Princess-Mary-Denmark-rented-private-Swiss-ski-lodge-AirBnB-14-000-week.html\n",
            "http://www.planete-tv.fr/2018/06/le-piege-de-tf1-tendu-a-la-realisatrice-ovidie.html\n",
            "http://papybricolo.over-blog.com/2019/10/debut-de-la-construction-de-mini-world-cote-d-azur.html\n",
            "https://www.cdiscount.com/maison/meubles-mobilier/table-console-bois-d-acacia-massif-86-x-30-x-75-cm/f-117600909-ovo4891493889700.html\n",
            "https://www.meteoconsult.fr/meteo-france/ville/previsions-meteo-gourdon-2023-0.php\n",
            "https://chefsimon.com/recettes/tag/gianduja\n",
            "https://maigrir.aufeminin.com/forum/qui-a-essaye-le-regime-kitchen-diet-fd712653\n",
            "https://danstonchat.com/273.html\n",
            "https://www.cdiscount.com/search/10/bracelet+apple+watch+hermes.html\n",
            "http://www.jeuxvideo.com/articles/0000/00008701-lost-odyssey-test.htm\n",
            "https://www.societe.com/societe/ecurie-julry-508461761.html\n",
            "https://dictionnaire.reverso.net/anglais-francais/ethicist\n",
            "http://www.allocine.fr/seance/film-264594/pres-de-87962/d-5\n",
            "https://www.ladepeche.fr/2019/12/17/cyril-hanouna-en-couple-avec-laeticia-hallyday-il-repond-dans-tpmp,8610297.php\n",
            "https://www.cdiscount.com/maison/r-cadre+de+lit+160x200+sans+sommier.html\n",
            "http://madame.lefigaro.fr/beaute/trois-astuces-contre-les-cheveux-gras-290116-1864\n",
            "https://dict.leo.org/allemand-fran%C3%A7ais/ernst\n",
            "https://webmail1k.orange.fr/webmail/fr_FR/continue.html;jsessionid=EE87C6577FA68F2D500E15BC0816BA12.1CF0203943E1663B1DB4\n",
            "https://de.pons.com/%C3%BCbersetzung/englisch-franz%C3%B6sisch/even\n",
            "https://www.lesanciennes.com/annonce/A315090-ventes-utilitaires-volkswagen-combi-t2-a-b-westfalia-1972.html\n",
            "https://www.marinetraffic.com/en/ais/home/centerx:-5.1/centery:44.6/zoom:8\n",
            "http://www.topito.com/top-prenom-tendance-20-ans\n",
            "https://www.marmiton.org/recettes/index/categorie/plat-vegetarien/3\n",
            "https://www.cdiscount.com/search/10/bateaux+gonflable.html\n",
            "https://ncis.hypnoweb.net/ncis-los-angeles/episode.152.2/S02E04-tu-ne-voleras-point-7381.html\n",
            "http://fr.viadeo.com/fr/profile/martial.lebault1\n",
            "http://chez-firmin.over-blog.com/article-16337644.html\n",
            "https://www.femmeactuelle.fr/actu/news-actu/line-renaud-trouve-valery-giscard-destaing-snob-et-fin-de-race-2087604\n",
            "https://www.cdiscount.com/juniors/r-robe+blanche+dentelle.html\n",
            "https://fr.shopping.rakuten.com/offer/buy/3524319972/twin-lens-reflex-camera-35mm-tlr-holga-lomo-diy-kit-retro-classic-film-photo-yellow.html\n",
            "https://www.meteoblue.com/fr/meteo/14-jours/mhamid_maroc_2565267\n",
            "https://www.conforama.fr/chambre-literie/textile-literie/sur-matelas/surmatelas-lancaster---taille---140x190-cm/p/M98912004\n",
            "https://www.cdiscount.com/search/10/objectif+420-800.html\n",
            "https://www.courrier-picard.fr/id66842/article/2020-02-04/ouverture-en-2021-dun-musee-du-vin-pekin\n",
            "http://forum.doctissimo.fr/sante/regles-problemes-gynecologiques/culotte-menstruelle-fempo-sujet_219979_1.htm\n",
            "https://fr.shopping.rakuten.com/offer/buy/47524988/Descartes-Rene-Meditations-Metaphysiques-Objections-Et-Reponses-Livre.html\n",
            "https://blog.giallozafferano.it/odoredifelicita/cuore-caldo-al-pistacchio\n",
            "https://www.linternaute.fr/cinema/tous-les-films/1811079-roulez-jeunesse\n",
            "https://www.businessinsider.fr/7-signes-que-vous-etes-trop-intelligent-pour-votre-boulot\n",
            "https://clients.cdiscount.com/MailBox/MailMessage.html/1493854753/CDISCOUNT_MAIL\n",
            "https://www.melty.fr/les-zombies-les-plus-degueu-dans-the-walking-dead-a588201.html\n",
            "https://mobile-dictionary.reverso.net/espagnol-francais/acoso\n",
            "http://www.journaldunet.com/business/salaire/champigny-sur-marne/ville-94017\n",
            "http://endurance38.com/article-distances-specifiques-quand-et-comment-120933171.html\n",
            "https://mobile-dictionary.reverso.net/francais-synonymes/ce%20n'est%20pas%20r%C3%A9el\n",
            "https://www.cdiscount.com/electromenager/r-machine+a+cafe+automatique.html\n",
            "https://www.cdiscount.com/search/10/cd+vierge+audio.html\n",
            "https://www.doctissimo.fr/laboratoire-0806-ROCHE.htm\n",
            "http://www.leparisien.fr/societe/lisez-votre-journal-au-format-numerique-28-05-2010-940069.php\n",
            "https://kino-teatr.ua/uk/film/jesus-rolls-51682.phtml\n",
            "https://www.programme-tv.net/programme/culture-infos/15051160-meghan-markle-de-hollywood-a-buckingham-qui-est-elle-vraiment/videos\n"
          ]
        }
      ]
    },
    {
      "cell_type": "code",
      "metadata": {
        "id": "uyaMlTSRaBSh"
      },
      "source": [
        "class TextDataset(Dataset):\n",
        "    def __init__(self,path):\n",
        "        self.data = load_dataset(path)\n",
        "        self.text=self.data.url\n",
        "        self.labels=self.data.target\n",
        "    def __len__(self):\n",
        "            return len(self.labels)\n",
        "    def __getitem__(self, idx):\n",
        "            label = self.labels[idx]\n",
        "            text = self.text[idx]\n",
        "            sample = {\"Text\": text, \"Class\": label}\n",
        "            return sample"
      ],
      "execution_count": null,
      "outputs": []
    },
    {
      "cell_type": "code",
      "metadata": {
        "id": "fzTTOu7Cmc3X"
      },
      "source": [
        "def collate_batch(batch):\n",
        "    word_tensor = torch.tensor([[1.], [0.], [45.]])\n",
        "    label_tensor = torch.tensor([[1.]])\n",
        "    \n",
        "    text_list, classes = [], []\n",
        "    for (_text, _class) in batch:\n",
        "        text_list.append(word_tensor)\n",
        "        classes.append(label_tensor)\n",
        "    text = torch.cat(text_list)\n",
        "    classes = torch.tensor(classes)\n",
        "    return text, classes"
      ],
      "execution_count": null,
      "outputs": []
    },
    {
      "cell_type": "code",
      "metadata": {
        "colab": {
          "base_uri": "https://localhost:8080/",
          "height": 35
        },
        "id": "2SQqHtWZq52l",
        "outputId": "c5b3d6ab-796d-478c-feea-a84ac434e321"
      },
      "source": [
        "u"
      ],
      "execution_count": null,
      "outputs": [
        {
          "output_type": "execute_result",
          "data": {
            "application/vnd.google.colaboratory.intrinsic+json": {
              "type": "string"
            },
            "text/plain": [
              "'http://1000-idees-a-faire-chez-soi-com.over-blog.com/2017/04/affiches-pour-apprendre-les-chiffres-de-1-a-10-a-imprimer-gratuitement.html'"
            ]
          },
          "metadata": {},
          "execution_count": 82
        }
      ]
    },
    {
      "cell_type": "code",
      "metadata": {
        "id": "J_QNPNJBk1Le"
      },
      "source": [
        "from urllib.parse import urlparse"
      ],
      "execution_count": null,
      "outputs": []
    },
    {
      "cell_type": "code",
      "metadata": {
        "id": "_aPVuJmEqvIp"
      },
      "source": [
        "from url_normalize import url_normalize\n",
        "u = urlparse(b)"
      ],
      "execution_count": null,
      "outputs": []
    },
    {
      "cell_type": "code",
      "metadata": {
        "colab": {
          "background_save": true,
          "base_uri": "https://localhost:8080/",
          "height": 1000
        },
        "id": "1GNP2fr-w__a",
        "outputId": "3e2b2e4e-0b07-485f-8272-56365c69a058"
      },
      "source": [
        "if __name__ == \"__main__\":\n",
        "  urls_dataset = TextDataset(path)\n",
        "  urls_dataloader = DataLoader(urls_dataset, batch_size=2 ,shuffle=True ,collate_fn=collate_batch)\n",
        "  print('\\nFirst iteration of data set: ', next(iter(urls_dataset)), '\\n')\n",
        "\n",
        "  # Print how many items are in the data set\n",
        "  print('Length of data set: ', len(urls_dataset), '\\n')\n",
        "\n",
        "  # Print entire data set\n",
        "  print('Entire data set: ', list(DataLoader(urls_dataset,collate_fn=collate_batch)), '\\n')\n",
        "  for index, batch in enumerate(urls_dataloader):\n",
        "      \n",
        "      # Print the 'text' data of the batch\n",
        "      print(index, 'Text data: ', batch)\n",
        "      # Print the 'class' data of batch\n",
        "      print(index, 'Class data: ', batch, '\\n')"
      ],
      "execution_count": null,
      "outputs": [
        {
          "name": "stderr",
          "output_type": "stream",
          "text": [
            "\n",
            "PYDEV DEBUGGER WARNING:\n",
            "sys.settrace() should not be used when the debugger is being used.\n",
            "This may cause the debugger to stop working correctly.\n",
            "If this is needed, please check: \n",
            "http://pydev.blogspot.com/2007/06/why-cant-pydev-debugger-work-with.html\n",
            "to see how to restore the debug tracing back correctly.\n",
            "Call Location:\n",
            "  File \"/usr/lib/python3.7/bdb.py\", line 332, in set_trace\n",
            "    sys.settrace(self.trace_dispatch)\n",
            "\n"
          ]
        },
        {
          "name": "stdout",
          "output_type": "stream",
          "text": [
            "> \u001b[0;32m<ipython-input-19-f37367f5de06>\u001b[0m(4)\u001b[0;36m<module>\u001b[0;34m()\u001b[0m\n",
            "\u001b[0;32m      3 \u001b[0;31m  \u001b[0mipdb\u001b[0m\u001b[0;34m.\u001b[0m\u001b[0mset_trace\u001b[0m\u001b[0;34m(\u001b[0m\u001b[0;34m)\u001b[0m\u001b[0;34m\u001b[0m\u001b[0;34m\u001b[0m\u001b[0m\n",
            "\u001b[0m\u001b[0;32m----> 4 \u001b[0;31m  \u001b[0murls_dataloader\u001b[0m \u001b[0;34m=\u001b[0m \u001b[0mfixed_length_dataloader\u001b[0m\u001b[0;34m(\u001b[0m\u001b[0murls_dataset\u001b[0m\u001b[0;34m,\u001b[0m \u001b[0mnum_workers\u001b[0m\u001b[0;34m=\u001b[0m\u001b[0;36m4\u001b[0m\u001b[0;34m)\u001b[0m\u001b[0;34m\u001b[0m\u001b[0;34m\u001b[0m\u001b[0m\n",
            "\u001b[0m\u001b[0;32m      5 \u001b[0;31m  \u001b[0mnow_time\u001b[0m \u001b[0;34m=\u001b[0m \u001b[0mtime\u001b[0m\u001b[0;34m(\u001b[0m\u001b[0;34m)\u001b[0m\u001b[0;34m\u001b[0m\u001b[0;34m\u001b[0m\u001b[0m\n",
            "\u001b[0m\n",
            "--KeyboardInterrupt--\n",
            "*** NameError: name 'k' is not defined\n",
            "4\n",
            "--KeyboardInterrupt--\n",
            "--KeyboardInterrupt--\n",
            "--KeyboardInterrupt--\n",
            "*** Newest frame\n",
            "*** SyntaxError: invalid syntax\n",
            "*** Newest frame\n",
            "--KeyboardInterrupt--\n",
            "--KeyboardInterrupt--\n"
          ]
        }
      ]
    },
    {
      "cell_type": "markdown",
      "metadata": {
        "id": "y7XPM12M6R5y"
      },
      "source": [
        "Pipeline 1"
      ]
    },
    {
      "cell_type": "code",
      "metadata": {
        "colab": {
          "base_uri": "https://localhost:8080/",
          "height": 198
        },
        "id": "-PSaw2hz6ROD",
        "outputId": "bbbab070-d59c-40ce-9198-319092b4ccc0"
      },
      "source": [
        "from sklearn.preprocessing import MultiLabelBinarizer\n",
        "mlb = MultiLabelBinarizer()\n",
        "yt = mlb.fit_transform(y)"
      ],
      "execution_count": null,
      "outputs": [
        {
          "output_type": "error",
          "ename": "NameError",
          "evalue": "ignored",
          "traceback": [
            "\u001b[0;31m---------------------------------------------------------------------------\u001b[0m",
            "\u001b[0;31mNameError\u001b[0m                                 Traceback (most recent call last)",
            "\u001b[0;32m<ipython-input-93-dbe4fc88e883>\u001b[0m in \u001b[0;36m<module>\u001b[0;34m()\u001b[0m\n\u001b[1;32m      1\u001b[0m \u001b[0;32mfrom\u001b[0m \u001b[0msklearn\u001b[0m\u001b[0;34m.\u001b[0m\u001b[0mpreprocessing\u001b[0m \u001b[0;32mimport\u001b[0m \u001b[0mMultiLabelBinarizer\u001b[0m\u001b[0;34m\u001b[0m\u001b[0;34m\u001b[0m\u001b[0m\n\u001b[1;32m      2\u001b[0m \u001b[0mmlb\u001b[0m \u001b[0;34m=\u001b[0m \u001b[0mMultiLabelBinarizer\u001b[0m\u001b[0;34m(\u001b[0m\u001b[0;34m)\u001b[0m\u001b[0;34m\u001b[0m\u001b[0;34m\u001b[0m\u001b[0m\n\u001b[0;32m----> 3\u001b[0;31m \u001b[0myt\u001b[0m \u001b[0;34m=\u001b[0m \u001b[0mmlb\u001b[0m\u001b[0;34m.\u001b[0m\u001b[0mfit_transform\u001b[0m\u001b[0;34m(\u001b[0m\u001b[0my\u001b[0m\u001b[0;34m)\u001b[0m\u001b[0;34m\u001b[0m\u001b[0;34m\u001b[0m\u001b[0m\n\u001b[0m",
            "\u001b[0;31mNameError\u001b[0m: name 'y' is not defined"
          ]
        }
      ]
    },
    {
      "cell_type": "code",
      "metadata": {
        "id": "k_ZJT6MbKVag"
      },
      "source": [
        ""
      ],
      "execution_count": null,
      "outputs": []
    }
  ]
}