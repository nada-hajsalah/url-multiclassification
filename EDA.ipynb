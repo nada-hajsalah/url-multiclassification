{
  "nbformat": 4,
  "nbformat_minor": 0,
  "metadata": {
    "accelerator": "GPU",
    "colab": {
      "name": "EDA.ipynb",
      "provenance": [],
      "collapsed_sections": [],
      "machine_shape": "hm"
    },
    "kernelspec": {
      "display_name": "Python 3",
      "name": "python3"
    },
    "language_info": {
      "name": "python"
    }
  },
  "cells": [
    {
      "cell_type": "code",
      "metadata": {
        "colab": {
          "base_uri": "https://localhost:8080/"
        },
        "id": "wIriyC0oQphD",
        "outputId": "31aef8a1-9593-462e-ab54-71111f7a4b88"
      },
      "source": [
        "from google.colab import drive\n",
        "drive.mount('/content/gdrive')"
      ],
      "execution_count": 3,
      "outputs": [
        {
          "output_type": "stream",
          "name": "stdout",
          "text": [
            "Mounted at /content/gdrive\n"
          ]
        }
      ]
    },
    {
      "cell_type": "code",
      "metadata": {
        "colab": {
          "base_uri": "https://localhost:8080/"
        },
        "id": "bF7JtbeBR5UO",
        "outputId": "ad7c4f96-4c7a-4f08-8fa0-fba0ab57676e"
      },
      "source": [
        "cd '/content/gdrive/My Drive/data'"
      ],
      "execution_count": 4,
      "outputs": [
        {
          "output_type": "stream",
          "name": "stdout",
          "text": [
            "/content/gdrive/My Drive/data\n"
          ]
        }
      ]
    },
    {
      "cell_type": "code",
      "metadata": {
        "id": "i6Buz8fvzHpR"
      },
      "source": [
        "#!pip install tldextract"
      ],
      "execution_count": null,
      "outputs": []
    },
    {
      "cell_type": "code",
      "metadata": {
        "id": "Ie5PtKIjSIJZ"
      },
      "source": [
        "import numpy as np\n",
        "import pandas as pd\n",
        "import re\n",
        "import logging\n",
        "import glob\n",
        "import os\n",
        "import torch\n",
        "import tldextract\n",
        "from torch.utils.data import Dataset, DataLoader\n",
        "import matplotlib.pyplot as plt\n",
        "import seaborn as sns \n",
        "from urllib.parse import urlparse\n",
        "from urllib.parse import unquote\n",
        "\n"
      ],
      "execution_count": 6,
      "outputs": []
    },
    {
      "cell_type": "code",
      "metadata": {
        "id": "QHIJZV44gQ7i"
      },
      "source": [
        "path2=r\"/content/gdrive/My Drive/tld\""
      ],
      "execution_count": 7,
      "outputs": []
    },
    {
      "cell_type": "code",
      "metadata": {
        "id": "PgAy35JQ8RI0"
      },
      "source": [
        "path = r'/content/gdrive/My Drive/data'                     # use your path\n",
        "all_files = glob.glob(os.path.join(path, \"*.parquet\"))\n",
        "#logger = set_logger(\"./log/data.log\")"
      ],
      "execution_count": 8,
      "outputs": []
    },
    {
      "cell_type": "markdown",
      "metadata": {
        "id": "N14IgbqkaG9u"
      },
      "source": [
        "**1**-  Data\n"
      ]
    },
    {
      "cell_type": "code",
      "metadata": {
        "id": "p0mu9LTq6pPU"
      },
      "source": [
        "logging.basicConfig(level=logging.WARNING)\n",
        "\n",
        "def load_dataset(path):\n",
        "  \"Read all files in the dataset and convert them into a dataframe\"\n",
        "  all_files = glob.glob(os.path.join(path, \"*.parquet\"))\n",
        "  if not all_files:\n",
        "        raise ValueError('The folder is empty. Please enter another path')\n",
        "  df_from_each_file = (pd.read_parquet(f, engine='pyarrow') for f in all_files)\n",
        "  concatenated_df   = pd.concat(df_from_each_file, ignore_index=True)\n",
        "  logging.info(\"Data loaded successfully\")\n",
        "\n",
        "  return concatenated_df"
      ],
      "execution_count": 9,
      "outputs": []
    },
    {
      "cell_type": "code",
      "metadata": {
        "id": "FBkehQUX8_Iv"
      },
      "source": [
        "df=load_dataset(path)"
      ],
      "execution_count": 10,
      "outputs": []
    },
    {
      "cell_type": "markdown",
      "metadata": {
        "id": "JUn7_DfyXmbn"
      },
      "source": [
        "2- Exploratory Data Analysis"
      ]
    },
    {
      "cell_type": "code",
      "metadata": {
        "id": "Xk4yU1mYX5zc"
      },
      "source": [
        "def duplicated(df,mode):\n",
        "  \"\"\"Deal with duplicated rows\"\"\"\n",
        "  #The dataset contains two types of duplications: 1/ the url and the target are duplicated  2/the url is duplicated with different targets\n",
        "  #to take into account the recent day\n",
        "  if mode==\"last\":\n",
        "    df_no_dup=df.drop_duplicates(subset=[\"url\"],keep=\"last\", inplace=False)\n",
        "  # to take into account take the intersection between the different targets of same url\n",
        "  if mode==\"intersection\":\n",
        "     df[\"target\"]=df[\"target\"].apply(set)\n",
        "     df_no_dup=pd.DataFrame(df.groupby('url',as_index=True)[\"target\"].agg(lambda x:set.intersection(*x)))\n",
        "     df_no_dup.reset_index(level=0, inplace=True)\n",
        "     df_no_dup[\"target\"]=df_no_dup[\"target\"].apply(list)\n",
        "  return df_no_dup\n"
      ],
      "execution_count": 11,
      "outputs": []
    },
    {
      "cell_type": "code",
      "metadata": {
        "id": "2Ar2wgJKDO6O"
      },
      "source": [
        "logging.basicConfig(level=logging.WARNING)\n",
        "\n",
        "def EDA(df,mode):\n",
        "  \" Function for Exploratory Data Analysis of Tags feature\"\n",
        "  \"\"\" \n",
        "    :param df: Dataframe\n",
        "    :param mode: Method to remove the duplicate entries\n",
        "    :return: Dataframe with no duplication\n",
        "  \"\"\"\n",
        "  #remove missing data\n",
        "  if df['target'].isnull().any():\n",
        "    df=df.dropna(subset=['target'])\n",
        "\n",
        "  labels=df[\"target\"]\n",
        "  #Number of unique labels\n",
        "  count=len(set(labels.explode()))\n",
        "  print(count)\n",
        "  logging.info(\"Number of lables\",count)\n",
        "  logging.info(\"Number of rows in the dataset\",len(df))\n",
        "\n",
        "  #Checking for duplicate entries in the dataset\n",
        "  boolean = df.duplicated(subset=['url']).any()\n",
        "\n",
        "  if boolean:\n",
        "    \n",
        "    df_new= duplicated(df,mode=\"last\")\n",
        "    logging.info(\"Number of rows in the de-duplicated dataset\",len(df_new))\n",
        "    print(\"Total number of duplicate entries removed from the given dataset: \",len(df)-len(df_new))\n",
        "  else:\n",
        "    df_new=df\n",
        "\n",
        "  #Checking for the distribution of number of tags per url\n",
        "  df_new[\"tag_count\"] = df_new[\"target\"].apply(lambda tags: len(tags))\n",
        "  plt.figure(figsize=(10,5))\n",
        "  sns.countplot(df_new.tag_count, palette='gist_rainbow')\n",
        "  plt.title(\"Distribution of the number of tags per url\")\n",
        "  plt.xlabel(\"Number of Tags\")\n",
        "  plt.ylabel(\"Number of url\")\n",
        "  plt.show()\n",
        "  #Average of labels per url\n",
        "  avg_tg=sum(df_new[\"tag_count\"])*1/len(df_new[\"tag_count\"])\n",
        "  logging.info(\"Average  number  labels per url\",avg_tg)\n",
        "  logging.info(\"Max number of labels per url\",max(df_new[\"tag_count\"]))\n",
        "  logging.info(\"Min number of labels per url\",min(df_new[\"tag_count\"]))\n",
        "\n",
        "  #The number of times each tag appeared\n",
        "  count=df_new[\"target\"].explode().value_counts()\n",
        "  plt.hist(count)\n",
        "  plt.show()\n",
        "\n",
        "  #drop column day and tag_count\n",
        "  df_new=df_new.drop([\"day\",'tag_count'],axis=1)\n",
        "\n",
        "  return df_new\n"
      ],
      "execution_count": 13,
      "outputs": []
    },
    {
      "cell_type": "code",
      "metadata": {
        "colab": {
          "base_uri": "https://localhost:8080/",
          "height": 774
        },
        "id": "a0jflbZsy8Eq",
        "outputId": "354b9a1a-08f6-4609-acf4-bb6e72ac79bb"
      },
      "source": [
        "d=EDA(df,\"last\")"
      ],
      "execution_count": 14,
      "outputs": [
        {
          "output_type": "stream",
          "name": "stdout",
          "text": [
            "1903\n",
            "Total number of duplicate entries removed from the given dataset:  120\n"
          ]
        },
        {
          "output_type": "stream",
          "name": "stderr",
          "text": [
            "/usr/local/lib/python3.7/dist-packages/ipykernel_launcher.py:33: SettingWithCopyWarning: \n",
            "A value is trying to be set on a copy of a slice from a DataFrame.\n",
            "Try using .loc[row_indexer,col_indexer] = value instead\n",
            "\n",
            "See the caveats in the documentation: https://pandas.pydata.org/pandas-docs/stable/user_guide/indexing.html#returning-a-view-versus-a-copy\n",
            "/usr/local/lib/python3.7/dist-packages/seaborn/_decorators.py:43: FutureWarning: Pass the following variable as a keyword arg: x. From version 0.12, the only valid positional argument will be `data`, and passing other arguments without an explicit keyword will result in an error or misinterpretation.\n",
            "  FutureWarning\n"
          ]
        },
        {
          "output_type": "display_data",
          "data": {
            "image/png": "[encoded data removed]",
            "text/plain": [
              "<Figure size 720x360 with 1 Axes>"
            ]
          },
          "metadata": {
            "needs_background": "light"
          }
        },
        {
          "output_type": "display_data",
          "data": {
            "image/png": "[encoded data removed]",
            "text/plain": [
              "<Figure size 432x288 with 1 Axes>"
            ]
          },
          "metadata": {
            "needs_background": "light"
          }
        }
      ]
    }
  ]
}